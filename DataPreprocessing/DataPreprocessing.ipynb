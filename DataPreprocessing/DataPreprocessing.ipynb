{
 "cells": [
  {
   "cell_type": "code",
   "execution_count": 1,
   "metadata": {},
   "outputs": [],
   "source": [
    "# !pip install tabulate"
   ]
  },
  {
   "cell_type": "code",
   "execution_count": 2,
   "metadata": {},
   "outputs": [],
   "source": [
    "import DataPreprocessing\n",
    "from DataPreprocessing import *"
   ]
  },
  {
   "attachments": {},
   "cell_type": "markdown",
   "metadata": {},
   "source": [
    "### Splitting the data "
   ]
  },
  {
   "cell_type": "code",
   "execution_count": 3,
   "metadata": {},
   "outputs": [],
   "source": [
    "DataPreprocessing.split_data()"
   ]
  },
  {
   "attachments": {},
   "cell_type": "markdown",
   "metadata": {},
   "source": [
    "### Reading the data"
   ]
  },
  {
   "cell_type": "code",
   "execution_count": 4,
   "metadata": {},
   "outputs": [
    {
     "data": {
      "text/html": [
       "<div>\n",
       "<style scoped>\n",
       "    .dataframe tbody tr th:only-of-type {\n",
       "        vertical-align: middle;\n",
       "    }\n",
       "\n",
       "    .dataframe tbody tr th {\n",
       "        vertical-align: top;\n",
       "    }\n",
       "\n",
       "    .dataframe thead th {\n",
       "        text-align: right;\n",
       "    }\n",
       "</style>\n",
       "<table border=\"1\" class=\"dataframe\">\n",
       "  <thead>\n",
       "    <tr style=\"text-align: right;\">\n",
       "      <th></th>\n",
       "      <th>Name</th>\n",
       "      <th>Platform</th>\n",
       "      <th>Year_of_Release</th>\n",
       "      <th>Genre</th>\n",
       "      <th>Publisher</th>\n",
       "      <th>NA_Sales</th>\n",
       "      <th>EU_Sales</th>\n",
       "      <th>JP_Sales</th>\n",
       "      <th>Other_Sales</th>\n",
       "      <th>Global_Sales</th>\n",
       "      <th>Critic_Score</th>\n",
       "      <th>Critic_Count</th>\n",
       "      <th>User_Score</th>\n",
       "      <th>User_Count</th>\n",
       "      <th>Developer</th>\n",
       "      <th>Rating</th>\n",
       "    </tr>\n",
       "  </thead>\n",
       "  <tbody>\n",
       "    <tr>\n",
       "      <th>0</th>\n",
       "      <td>Akai Katana Shin</td>\n",
       "      <td>X360</td>\n",
       "      <td>2011.0</td>\n",
       "      <td>Shooter</td>\n",
       "      <td>Cave</td>\n",
       "      <td>0.04</td>\n",
       "      <td>0.00</td>\n",
       "      <td>0.01</td>\n",
       "      <td>0.00</td>\n",
       "      <td>0.06</td>\n",
       "      <td>NaN</td>\n",
       "      <td>NaN</td>\n",
       "      <td>NaN</td>\n",
       "      <td>NaN</td>\n",
       "      <td>NaN</td>\n",
       "      <td>NaN</td>\n",
       "    </tr>\n",
       "    <tr>\n",
       "      <th>1</th>\n",
       "      <td>One Piece: Unlimited World Red</td>\n",
       "      <td>WiiU</td>\n",
       "      <td>2014.0</td>\n",
       "      <td>Action</td>\n",
       "      <td>Namco Bandai Games</td>\n",
       "      <td>0.00</td>\n",
       "      <td>0.04</td>\n",
       "      <td>0.02</td>\n",
       "      <td>0.00</td>\n",
       "      <td>0.06</td>\n",
       "      <td>66.0</td>\n",
       "      <td>11.0</td>\n",
       "      <td>7.8</td>\n",
       "      <td>43.0</td>\n",
       "      <td>Ganbarion</td>\n",
       "      <td>T</td>\n",
       "    </tr>\n",
       "    <tr>\n",
       "      <th>2</th>\n",
       "      <td>Lunar Knights</td>\n",
       "      <td>DS</td>\n",
       "      <td>2006.0</td>\n",
       "      <td>Role-Playing</td>\n",
       "      <td>Konami Digital Entertainment</td>\n",
       "      <td>0.17</td>\n",
       "      <td>0.01</td>\n",
       "      <td>0.04</td>\n",
       "      <td>0.01</td>\n",
       "      <td>0.23</td>\n",
       "      <td>82.0</td>\n",
       "      <td>39.0</td>\n",
       "      <td>7.8</td>\n",
       "      <td>25.0</td>\n",
       "      <td>Kojima Productions</td>\n",
       "      <td>E10+</td>\n",
       "    </tr>\n",
       "    <tr>\n",
       "      <th>3</th>\n",
       "      <td>Secret Game Portable</td>\n",
       "      <td>PSP</td>\n",
       "      <td>2010.0</td>\n",
       "      <td>Adventure</td>\n",
       "      <td>Yeti</td>\n",
       "      <td>0.00</td>\n",
       "      <td>0.00</td>\n",
       "      <td>0.01</td>\n",
       "      <td>0.00</td>\n",
       "      <td>0.01</td>\n",
       "      <td>NaN</td>\n",
       "      <td>NaN</td>\n",
       "      <td>NaN</td>\n",
       "      <td>NaN</td>\n",
       "      <td>NaN</td>\n",
       "      <td>NaN</td>\n",
       "    </tr>\n",
       "    <tr>\n",
       "      <th>4</th>\n",
       "      <td>Far Cry 2</td>\n",
       "      <td>X360</td>\n",
       "      <td>2008.0</td>\n",
       "      <td>Action</td>\n",
       "      <td>Ubisoft</td>\n",
       "      <td>0.71</td>\n",
       "      <td>0.69</td>\n",
       "      <td>0.02</td>\n",
       "      <td>0.18</td>\n",
       "      <td>1.59</td>\n",
       "      <td>85.0</td>\n",
       "      <td>75.0</td>\n",
       "      <td>6.7</td>\n",
       "      <td>288.0</td>\n",
       "      <td>Ubisoft Montreal</td>\n",
       "      <td>M</td>\n",
       "    </tr>\n",
       "  </tbody>\n",
       "</table>\n",
       "</div>"
      ],
      "text/plain": [
       "                             Name Platform  Year_of_Release         Genre  \\\n",
       "0                Akai Katana Shin     X360           2011.0       Shooter   \n",
       "1  One Piece: Unlimited World Red     WiiU           2014.0        Action   \n",
       "2                   Lunar Knights       DS           2006.0  Role-Playing   \n",
       "3            Secret Game Portable      PSP           2010.0     Adventure   \n",
       "4                       Far Cry 2     X360           2008.0        Action   \n",
       "\n",
       "                      Publisher  NA_Sales  EU_Sales  JP_Sales  Other_Sales  \\\n",
       "0                          Cave      0.04      0.00      0.01         0.00   \n",
       "1            Namco Bandai Games      0.00      0.04      0.02         0.00   \n",
       "2  Konami Digital Entertainment      0.17      0.01      0.04         0.01   \n",
       "3                          Yeti      0.00      0.00      0.01         0.00   \n",
       "4                       Ubisoft      0.71      0.69      0.02         0.18   \n",
       "\n",
       "   Global_Sales  Critic_Score  Critic_Count User_Score  User_Count  \\\n",
       "0          0.06           NaN           NaN        NaN         NaN   \n",
       "1          0.06          66.0          11.0        7.8        43.0   \n",
       "2          0.23          82.0          39.0        7.8        25.0   \n",
       "3          0.01           NaN           NaN        NaN         NaN   \n",
       "4          1.59          85.0          75.0        6.7       288.0   \n",
       "\n",
       "            Developer Rating  \n",
       "0                 NaN    NaN  \n",
       "1           Ganbarion      T  \n",
       "2  Kojima Productions   E10+  \n",
       "3                 NaN    NaN  \n",
       "4    Ubisoft Montreal      M  "
      ]
     },
     "execution_count": 4,
     "metadata": {},
     "output_type": "execute_result"
    }
   ],
   "source": [
    "df = DataPreprocessing.read_data(kind='train')\n",
    "\n",
    "df.head()"
   ]
  },
  {
   "attachments": {},
   "cell_type": "markdown",
   "metadata": {},
   "source": [
    "### Get info about the dataset"
   ]
  },
  {
   "cell_type": "code",
   "execution_count": 5,
   "metadata": {},
   "outputs": [
    {
     "name": "stdout",
     "output_type": "stream",
     "text": [
      "Number of rows: 10031, Number of columns: 16\n",
      "\n",
      "Available Features: ['Name', 'Platform', 'Year_of_Release', 'Genre', 'Publisher', 'NA_Sales', 'EU_Sales', 'JP_Sales', 'Other_Sales', 'Global_Sales', 'Critic_Score', 'Critic_Count', 'User_Score', 'User_Count', 'Developer', 'Rating']\n",
      "\n",
      "+-------+-------------------+--------------+--------------+---------------+---------------+----------------+----------------+----------------+--------------+\n",
      "|       |   Year_of_Release |     NA_Sales |     EU_Sales |      JP_Sales |   Other_Sales |   Global_Sales |   Critic_Score |   Critic_Count |   User_Count |\n",
      "|-------+-------------------+--------------+--------------+---------------+---------------+----------------+----------------+----------------+--------------|\n",
      "| count |         9864      | 10031        | 10031        | 10031         | 10031         |    10031       |      4862      |      4862      |     4537     |\n",
      "| mean  |         2006.44   |     0.268116 |     0.145451 |     0.0778965 |     0.0483451 |        0.5401  |        68.8793 |        26.3155 |      163.535 |\n",
      "| std   |            5.9206 |     0.895863 |     0.52187  |     0.311197  |     0.209924  |        1.65701 |        14.1112 |        18.8684 |      591.181 |\n",
      "| min   |         1980      |     0        |     0        |     0         |     0         |        0.01    |        17      |         3      |        4     |\n",
      "| 25%   |         2003      |     0        |     0        |     0         |     0         |        0.06    |        60      |        12      |       10     |\n",
      "| 50%   |         2007      |     0.08     |     0.02     |     0         |     0.01      |        0.17    |        71      |        21      |       25     |\n",
      "| 75%   |         2010      |     0.245    |     0.11     |     0.04      |     0.04      |        0.48    |        79      |        37      |       85     |\n",
      "| max   |         2020      |    41.36     |    28.96     |    10.22      |    10.57      |       82.53    |        98      |       113      |    10665     |\n",
      "+-------+-------------------+--------------+--------------+---------------+---------------+----------------+----------------+----------------+--------------+\n"
     ]
    }
   ],
   "source": [
    "DataPreprocessing.get_info(df)"
   ]
  },
  {
   "attachments": {},
   "cell_type": "markdown",
   "metadata": {},
   "source": [
    "### Dealing with missing values"
   ]
  },
  {
   "cell_type": "code",
   "execution_count": 6,
   "metadata": {},
   "outputs": [
    {
     "name": "stdout",
     "output_type": "stream",
     "text": [
      "Total Number of rows : 10031\n",
      "Number of rows with missing values: 5954\n",
      "Number of rows after dropping: 4077\n"
     ]
    }
   ],
   "source": [
    "df_copy = df.copy()\n",
    "df_copy= DataPreprocessing.handle_missing_values(df_copy)"
   ]
  },
  {
   "attachments": {},
   "cell_type": "markdown",
   "metadata": {},
   "source": [
    "### Outliers"
   ]
  },
  {
   "cell_type": "code",
   "execution_count": 7,
   "metadata": {},
   "outputs": [
    {
     "name": "stdout",
     "output_type": "stream",
     "text": [
      "Number of outliers in Year_of_Release: 192\n",
      "Number of outliers in NA_Sales: 996\n",
      "Number of outliers in EU_Sales: 1230\n",
      "Number of outliers in JP_Sales: 1439\n",
      "Number of outliers in Other_Sales: 975\n",
      "Number of outliers in Global_Sales: 1115\n",
      "Number of outliers in Critic_Score: 59\n",
      "Number of outliers in Critic_Count: 118\n",
      "Number of outliers in User_Count: 636\n"
     ]
    }
   ],
   "source": [
    "DataPreprocessing.detect_outliers(df)"
   ]
  }
 ],
 "metadata": {
  "kernelspec": {
   "display_name": "Python 3",
   "language": "python",
   "name": "python3"
  },
  "language_info": {
   "codemirror_mode": {
    "name": "ipython",
    "version": 3
   },
   "file_extension": ".py",
   "mimetype": "text/x-python",
   "name": "python",
   "nbconvert_exporter": "python",
   "pygments_lexer": "ipython3",
   "version": "3.8.5"
  },
  "orig_nbformat": 4
 },
 "nbformat": 4,
 "nbformat_minor": 2
}
