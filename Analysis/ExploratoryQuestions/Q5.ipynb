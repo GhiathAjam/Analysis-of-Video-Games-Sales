{
 "cells": [
  {
   "cell_type": "code",
   "execution_count": 1,
   "metadata": {},
   "outputs": [
    {
     "name": "stderr",
     "output_type": "stream",
     "text": [
      "c:\\Users\\Dell\\AppData\\Local\\Programs\\Python\\Python310\\lib\\site-packages\\scipy\\__init__.py:146: UserWarning: A NumPy version >=1.16.5 and <1.23.0 is required for this version of SciPy (detected version 1.24.3\n",
      "  warnings.warn(f\"A NumPy version >={np_minversion} and <{np_maxversion}\"\n"
     ]
    }
   ],
   "source": [
    "import sys; sys.path.append(\"../../\")\n",
    "from DataPreprocessing.DataPreprocessing import *\n",
    "from DataExploration import *\n",
    "\n",
    "import matplotlib.pyplot as plt\n",
    "import seaborn as sns\n",
    "import numpy as np"
   ]
  },
  {
   "attachments": {},
   "cell_type": "markdown",
   "metadata": {},
   "source": [
    "# Question:\n",
    "    Which regions prefer which genres?\n"
   ]
  },
  {
   "attachments": {},
   "cell_type": "markdown",
   "metadata": {},
   "source": [
    "## 1- Expectations:   \n",
    "    - It's expected that each region prefers certain genre as all different cultures (UA, NA, JP) \n",
    "      don't seem to prefer only one genre ."
   ]
  },
  {
   "attachments": {},
   "cell_type": "markdown",
   "metadata": {},
   "source": [
    "## 2- Data Collection: \n",
    "    "
   ]
  },
  {
   "attachments": {},
   "cell_type": "markdown",
   "metadata": {},
   "source": [
    "## Read data "
   ]
  },
  {
   "cell_type": "code",
   "execution_count": 2,
   "metadata": {},
   "outputs": [],
   "source": [
    "df = read_data(kind='dataset')"
   ]
  },
  {
   "attachments": {},
   "cell_type": "markdown",
   "metadata": {},
   "source": [
    "## Handle Missing Values\n",
    "    - Dropping rows with missing values is not the best approach here, as shown in the Data Exploration section.\n",
    "    - We will drop nan values for better analysis of data"
   ]
  },
  {
   "cell_type": "code",
   "execution_count": 3,
   "metadata": {},
   "outputs": [
    {
     "name": "stdout",
     "output_type": "stream",
     "text": [
      "Total Number of rows : 16719\n",
      "Number of rows with missing values: 9894\n",
      "Number of rows after handling missing values: 16719 and Number of missing values: 9894\n"
     ]
    }
   ],
   "source": [
    "df= handle_missing_values(df, handling_method='knn', neighbors=5,cols=['NA_Sales','EU_Sales','JP_Sales','Other_Sales'])"
   ]
  },
  {
   "attachments": {},
   "cell_type": "markdown",
   "metadata": {},
   "source": [
    "## Handle outliers"
   ]
  },
  {
   "cell_type": "code",
   "execution_count": 4,
   "metadata": {},
   "outputs": [
    {
     "name": "stdout",
     "output_type": "stream",
     "text": [
      "Number of outliers removed: 4445\n",
      "Number of original rows:  12274\n"
     ]
    }
   ],
   "source": [
    "df= remove_common_outliers(df,['NA_Sales','EU_Sales','JP_Sales'])\n",
    "print('Number of original rows: ', df.shape[0])"
   ]
  },
  {
   "attachments": {},
   "cell_type": "markdown",
   "metadata": {},
   "source": [
    "- This is safer than removing 6182 rows (As shown in Data Exploration section)"
   ]
  },
  {
   "cell_type": "code",
   "execution_count": 5,
   "metadata": {},
   "outputs": [
    {
     "data": {
      "text/html": [
       "<div>\n",
       "<style scoped>\n",
       "    .dataframe tbody tr th:only-of-type {\n",
       "        vertical-align: middle;\n",
       "    }\n",
       "\n",
       "    .dataframe tbody tr th {\n",
       "        vertical-align: top;\n",
       "    }\n",
       "\n",
       "    .dataframe thead th {\n",
       "        text-align: right;\n",
       "    }\n",
       "</style>\n",
       "<table border=\"1\" class=\"dataframe\">\n",
       "  <thead>\n",
       "    <tr style=\"text-align: right;\">\n",
       "      <th></th>\n",
       "      <th>Name</th>\n",
       "      <th>Platform</th>\n",
       "      <th>Year_of_Release</th>\n",
       "      <th>Genre</th>\n",
       "      <th>Publisher</th>\n",
       "      <th>Global_Sales</th>\n",
       "      <th>Critic_Score</th>\n",
       "      <th>Critic_Count</th>\n",
       "      <th>User_Score</th>\n",
       "      <th>User_Count</th>\n",
       "      <th>Developer</th>\n",
       "      <th>Rating</th>\n",
       "      <th>NA_Sales</th>\n",
       "      <th>EU_Sales</th>\n",
       "      <th>JP_Sales</th>\n",
       "      <th>Other_Sales</th>\n",
       "    </tr>\n",
       "  </thead>\n",
       "  <tbody>\n",
       "    <tr>\n",
       "      <th>699</th>\n",
       "      <td>FIFA Soccer 09</td>\n",
       "      <td>PS2</td>\n",
       "      <td>2008.0</td>\n",
       "      <td>Sports</td>\n",
       "      <td>Electronic Arts</td>\n",
       "      <td>2.28</td>\n",
       "      <td>82.0</td>\n",
       "      <td>8.0</td>\n",
       "      <td>6.9</td>\n",
       "      <td>20.0</td>\n",
       "      <td>EA Canada</td>\n",
       "      <td>E</td>\n",
       "      <td>0.38</td>\n",
       "      <td>0.07</td>\n",
       "      <td>0.01</td>\n",
       "      <td>1.82</td>\n",
       "    </tr>\n",
       "    <tr>\n",
       "      <th>924</th>\n",
       "      <td>High School Musical: Sing It!</td>\n",
       "      <td>PS2</td>\n",
       "      <td>2007.0</td>\n",
       "      <td>Misc</td>\n",
       "      <td>Disney Interactive Studios</td>\n",
       "      <td>1.87</td>\n",
       "      <td>NaN</td>\n",
       "      <td>NaN</td>\n",
       "      <td>NaN</td>\n",
       "      <td>NaN</td>\n",
       "      <td>NaN</td>\n",
       "      <td>NaN</td>\n",
       "      <td>0.47</td>\n",
       "      <td>0.08</td>\n",
       "      <td>0.00</td>\n",
       "      <td>1.33</td>\n",
       "    </tr>\n",
       "    <tr>\n",
       "      <th>1051</th>\n",
       "      <td>FIFA Soccer 10</td>\n",
       "      <td>PS2</td>\n",
       "      <td>2009.0</td>\n",
       "      <td>Sports</td>\n",
       "      <td>Electronic Arts</td>\n",
       "      <td>1.70</td>\n",
       "      <td>NaN</td>\n",
       "      <td>NaN</td>\n",
       "      <td>8.4</td>\n",
       "      <td>9.0</td>\n",
       "      <td>EA Sports</td>\n",
       "      <td>E</td>\n",
       "      <td>0.23</td>\n",
       "      <td>0.24</td>\n",
       "      <td>0.00</td>\n",
       "      <td>1.23</td>\n",
       "    </tr>\n",
       "    <tr>\n",
       "      <th>1249</th>\n",
       "      <td>The Simpsons Game</td>\n",
       "      <td>PS2</td>\n",
       "      <td>2007.0</td>\n",
       "      <td>Action</td>\n",
       "      <td>Electronic Arts</td>\n",
       "      <td>1.51</td>\n",
       "      <td>68.0</td>\n",
       "      <td>10.0</td>\n",
       "      <td>8.2</td>\n",
       "      <td>27.0</td>\n",
       "      <td>Electronic Arts</td>\n",
       "      <td>T</td>\n",
       "      <td>0.35</td>\n",
       "      <td>0.03</td>\n",
       "      <td>0.00</td>\n",
       "      <td>1.13</td>\n",
       "    </tr>\n",
       "    <tr>\n",
       "      <th>1378</th>\n",
       "      <td>Need For Speed: Undercover</td>\n",
       "      <td>PS2</td>\n",
       "      <td>2008.0</td>\n",
       "      <td>Racing</td>\n",
       "      <td>Electronic Arts</td>\n",
       "      <td>1.40</td>\n",
       "      <td>NaN</td>\n",
       "      <td>NaN</td>\n",
       "      <td>6.5</td>\n",
       "      <td>38.0</td>\n",
       "      <td>Exient Entertainment</td>\n",
       "      <td>T</td>\n",
       "      <td>0.38</td>\n",
       "      <td>0.08</td>\n",
       "      <td>0.03</td>\n",
       "      <td>0.93</td>\n",
       "    </tr>\n",
       "  </tbody>\n",
       "</table>\n",
       "</div>"
      ],
      "text/plain": [
       "                               Name Platform  Year_of_Release   Genre  \\\n",
       "699                  FIFA Soccer 09      PS2           2008.0  Sports   \n",
       "924   High School Musical: Sing It!      PS2           2007.0    Misc   \n",
       "1051                 FIFA Soccer 10      PS2           2009.0  Sports   \n",
       "1249              The Simpsons Game      PS2           2007.0  Action   \n",
       "1378     Need For Speed: Undercover      PS2           2008.0  Racing   \n",
       "\n",
       "                       Publisher  Global_Sales  Critic_Score  Critic_Count  \\\n",
       "699              Electronic Arts          2.28          82.0           8.0   \n",
       "924   Disney Interactive Studios          1.87           NaN           NaN   \n",
       "1051             Electronic Arts          1.70           NaN           NaN   \n",
       "1249             Electronic Arts          1.51          68.0          10.0   \n",
       "1378             Electronic Arts          1.40           NaN           NaN   \n",
       "\n",
       "     User_Score  User_Count             Developer Rating  NA_Sales  EU_Sales  \\\n",
       "699         6.9        20.0             EA Canada      E      0.38      0.07   \n",
       "924         NaN         NaN                   NaN    NaN      0.47      0.08   \n",
       "1051        8.4         9.0             EA Sports      E      0.23      0.24   \n",
       "1249        8.2        27.0       Electronic Arts      T      0.35      0.03   \n",
       "1378        6.5        38.0  Exient Entertainment      T      0.38      0.08   \n",
       "\n",
       "      JP_Sales  Other_Sales  \n",
       "699       0.01         1.82  \n",
       "924       0.00         1.33  \n",
       "1051      0.00         1.23  \n",
       "1249      0.00         1.13  \n",
       "1378      0.03         0.93  "
      ]
     },
     "execution_count": 5,
     "metadata": {},
     "output_type": "execute_result"
    }
   ],
   "source": [
    "df.head()"
   ]
  },
  {
   "attachments": {},
   "cell_type": "markdown",
   "metadata": {},
   "source": [
    "## Analysis"
   ]
  },
  {
   "cell_type": "code",
   "execution_count": 6,
   "metadata": {},
   "outputs": [
    {
     "data": {
      "text/plain": [
       "Action          2554\n",
       "Sports          1650\n",
       "Misc            1373\n",
       "Adventure       1139\n",
       "Racing           954\n",
       "Shooter          942\n",
       "Role-Playing     879\n",
       "Simulation       660\n",
       "Platform         605\n",
       "Fighting         552\n",
       "Strategy         512\n",
       "Puzzle           453\n",
       "Name: Genre, dtype: int64"
      ]
     },
     "execution_count": 6,
     "metadata": {},
     "output_type": "execute_result"
    }
   ],
   "source": [
    "df['Genre'].value_counts()"
   ]
  },
  {
   "attachments": {},
   "cell_type": "markdown",
   "metadata": {},
   "source": [
    "### Sales Distribution"
   ]
  },
  {
   "cell_type": "code",
   "execution_count": 7,
   "metadata": {},
   "outputs": [
    {
     "data": {
      "text/plain": [
       "count    12274.000000\n",
       "mean         0.102037\n",
       "std          0.121859\n",
       "min          0.000000\n",
       "25%          0.000000\n",
       "50%          0.060000\n",
       "75%          0.150000\n",
       "max          0.600000\n",
       "Name: NA_Sales, dtype: float64"
      ]
     },
     "execution_count": 7,
     "metadata": {},
     "output_type": "execute_result"
    }
   ],
   "source": [
    "df['NA_Sales'].describe()"
   ]
  },
  {
   "cell_type": "code",
   "execution_count": 8,
   "metadata": {},
   "outputs": [
    {
     "data": {
      "text/plain": [
       "count    12274.000000\n",
       "mean         0.041986\n",
       "std          0.060128\n",
       "min          0.000000\n",
       "25%          0.000000\n",
       "50%          0.020000\n",
       "75%          0.060000\n",
       "max          0.270000\n",
       "Name: EU_Sales, dtype: float64"
      ]
     },
     "execution_count": 8,
     "metadata": {},
     "output_type": "execute_result"
    }
   ],
   "source": [
    "df['EU_Sales'].describe()"
   ]
  },
  {
   "cell_type": "code",
   "execution_count": 9,
   "metadata": {},
   "outputs": [
    {
     "data": {
      "text/plain": [
       "count    12274.000000\n",
       "mean         0.010366\n",
       "std          0.022209\n",
       "min          0.000000\n",
       "25%          0.000000\n",
       "50%          0.000000\n",
       "75%          0.010000\n",
       "max          0.100000\n",
       "Name: JP_Sales, dtype: float64"
      ]
     },
     "execution_count": 9,
     "metadata": {},
     "output_type": "execute_result"
    }
   ],
   "source": [
    "df['JP_Sales'].describe()"
   ]
  },
  {
   "cell_type": "code",
   "execution_count": 10,
   "metadata": {},
   "outputs": [
    {
     "data": {
      "image/png": "[encoded data removed]",
      "text/plain": [
       "<Figure size 1080x360 with 3 Axes>"
      ]
     },
     "metadata": {
      "needs_background": "light"
     },
     "output_type": "display_data"
    }
   ],
   "source": [
    "fig, axes = plt.subplots(1, 3, figsize=(15, 5))\n",
    "fig.suptitle('Sales')\n",
    "sns.despine(left=False, bottom=False)\n",
    "sns.histplot(ax=axes[0], data=df, x='NA_Sales')\n",
    "sns.histplot(ax=axes[1], data=df, x='EU_Sales')\n",
    "sns.histplot(ax=axes[2], data=df, x='JP_Sales')\n",
    "\n",
    "plt.show()\n"
   ]
  },
  {
   "attachments": {},
   "cell_type": "markdown",
   "metadata": {},
   "source": [
    "    - We can see that North America has more sales than Europe and Japan.\n",
    "    - Japan has the least sales."
   ]
  },
  {
   "attachments": {},
   "cell_type": "markdown",
   "metadata": {},
   "source": [
    "### Sales by genre in each Region"
   ]
  },
  {
   "cell_type": "code",
   "execution_count": 11,
   "metadata": {},
   "outputs": [
    {
     "data": {
      "image/png": "[encoded data removed]",
      "text/plain": [
       "<Figure size 1440x360 with 3 Axes>"
      ]
     },
     "metadata": {
      "needs_background": "light"
     },
     "output_type": "display_data"
    }
   ],
   "source": [
    "fig, axes = plt.subplots(1,3, figsize=(20,5))\n",
    "plt.suptitle('Sales by genre')\n",
    "sns.despine(left=False, bottom=False)\n",
    "\n",
    "Sales= ['NA_Sales','EU_Sales','JP_Sales']\n",
    "for i in range(len(Sales)):\n",
    "    df.groupby(['Genre'])[Sales[i]].mean().sort_values(ascending=False).plot(kind='bar', ax=axes[i])\n",
    "    axes[i].set_title(Sales[i])\n",
    "    axes[i].set_xlabel('Genre')\n",
    "    axes[i].set_ylabel('Sales')\n",
    "plt.show()\n"
   ]
  },
  {
   "attachments": {},
   "cell_type": "markdown",
   "metadata": {},
   "source": [
    "### Let's see the impact of ESRP rating on the sales"
   ]
  },
  {
   "cell_type": "code",
   "execution_count": 19,
   "metadata": {},
   "outputs": [
    {
     "data": {
      "image/png": "[encoded data removed]",
      "text/plain": [
       "<Figure size 1440x360 with 3 Axes>"
      ]
     },
     "metadata": {
      "needs_background": "light"
     },
     "output_type": "display_data"
    }
   ],
   "source": [
    "fig, axes = plt.subplots(1,3, figsize=(20,5))\n",
    "\n",
    "sns.despine(left=False, bottom=False)\n",
    "\n",
    "Sales= ['NA_Sales','EU_Sales','JP_Sales']\n",
    "for i in range(len(Sales)):\n",
    "    df.groupby(['Rating'])[Sales[i]].sum().sort_values(ascending=True).plot(kind='barh', ax=axes[i])\n",
    "    axes[i].set_title(Sales[i])\n",
    "    axes[i].set_xlabel('Sales')\n",
    "    axes[i].set_ylabel('Rating')\n",
    "plt.show()"
   ]
  },
  {
   "attachments": {},
   "cell_type": "markdown",
   "metadata": {},
   "source": [
    "    - We can see that for North America and Europe, the highest sales are from those games which are available to everyone.\n",
    "    - For Japan, the highest sales are from those games which are rated for teenagers.    "
   ]
  },
  {
   "attachments": {},
   "cell_type": "markdown",
   "metadata": {},
   "source": [
    "#### Let's explore the most common genres with ratings E,T,M"
   ]
  },
  {
   "cell_type": "code",
   "execution_count": 13,
   "metadata": {},
   "outputs": [
    {
     "data": {
      "text/plain": [
       "E    3133\n",
       "T    2242\n",
       "M    1045\n",
       "Name: Rating, dtype: int64"
      ]
     },
     "execution_count": 13,
     "metadata": {},
     "output_type": "execute_result"
    }
   ],
   "source": [
    "# keep only rows with ratings E,T,M\n",
    "df = df[df['Rating'].isin(['E','T','M'])] \n",
    "df['Rating'].value_counts()"
   ]
  },
  {
   "cell_type": "code",
   "execution_count": 18,
   "metadata": {},
   "outputs": [
    {
     "data": {
      "image/png": "[encoded data removed]",
      "text/plain": [
       "<Figure size 1440x720 with 2 Axes>"
      ]
     },
     "metadata": {
      "needs_background": "light"
     },
     "output_type": "display_data"
    }
   ],
   "source": [
    "rating_genre=df.groupby(['Rating'])['Genre'].value_counts().unstack().sort_values(by='Genre', axis=1)\n",
    "sns.heatmap(rating_genre,cmap='BuPu',annot=True)\n",
    "plt.rcParams['figure.figsize'] = [20, 10]"
   ]
  },
  {
   "attachments": {},
   "cell_type": "markdown",
   "metadata": {},
   "source": [
    "    - It's clear that the most popular genre with rating E is Sports then Racing.\n",
    "    - The most popular genre with rating T is Action then Role-Playing and shooter.\n",
    "    - The most popular genre with rating M is Action then Shooter."
   ]
  },
  {
   "attachments": {},
   "cell_type": "markdown",
   "metadata": {},
   "source": [
    "    - The ESRB rating may play a role in influencing the sales of video games. In North America, the Sports genre with an E rating dominates the market and generates the highest sales. In Europe, games rated for Everyone and Teenagers are the most popular, with the Shooter genre being the most common with a T rating, and generating the highest sales. This trend in Europe suggests a preference for games with violent elements that may not be suitable for children. In Japan, games rated for Teenagers are the most popular, with the Role-Playing genre being the most common with a T rating and generating the highest sales. \n"
   ]
  },
  {
   "attachments": {},
   "cell_type": "markdown",
   "metadata": {},
   "source": [
    "## Hypothesis \n",
    "   - H0: All Regions prefer the same genre (genre with highest global sales).\n",
    "   - HA: Each Region prefer different genre "
   ]
  },
  {
   "attachments": {},
   "cell_type": "markdown",
   "metadata": {},
   "source": [
    "### T-Test\n",
    "##### Use T-test to test the relationship between a numerical variable (NA/EU/JP Sales) and a categorical variable (Genre) we want to test if sports is the preferred genre in all regions.\n",
    "     "
   ]
  },
  {
   "cell_type": "code",
   "execution_count": 15,
   "metadata": {},
   "outputs": [
    {
     "name": "stdout",
     "output_type": "stream",
     "text": [
      "For Genre Vs. NA_Sales:\n",
      "best value when comparing Sports Vs. Strategy\n",
      "p-value = 0.000000\n",
      "Retain H0: the highest mean is for the Sports genre\n",
      "--------------------------------------------------\n",
      "For Genre Vs. EU_Sales:\n",
      "best value when comparing Shooter Vs. Puzzle\n",
      "p-value = 0.000000\n",
      "Reject H0: the highest mean is not for the Sports genre\n",
      "--------------------------------------------------\n",
      "For Genre Vs. JP_Sales:\n",
      "best value when comparing Role-Playing Vs. Shooter\n",
      "p-value = 0.000000\n",
      "Reject H0: the highest mean is not for the Sports genre\n",
      "--------------------------------------------------\n"
     ]
    }
   ],
   "source": [
    "from scipy.stats import ttest_ind\n",
    "\n",
    "def ttest(df, col, lbl):\n",
    "    # get unique labels\n",
    "    labels = df[lbl].unique()\n",
    "\n",
    "    data = [df[df[lbl] == label][col].mean() for label in labels]\n",
    "\n",
    "    t = 0\n",
    "    for i in range(len(data)):\n",
    "        for j in range(i+1, len(data)):\n",
    "            tij, pij = ttest_ind(df[df[lbl] == labels[i]][col].values,\n",
    "                                 df[df[lbl] == labels[j]][col].values)\n",
    "            if abs(tij) > t:\n",
    "                t, p, label1, label2 = tij, pij, labels[i], labels[j]\n",
    "\n",
    "    return t, p, label1, label2\n",
    "\n",
    "lbls=['NA_Sales','EU_Sales','JP_Sales']\n",
    "cols=['Genre']\n",
    "for i in range(3):\n",
    "    t, p, label1, label2 = ttest(df, lbls[i], cols[0])\n",
    "    print(f'For {cols[0]} Vs. {lbls[i]}:')\n",
    "    print(f'best value when comparing {label1} Vs. {label2}')\n",
    "    print(f'p-value = {p:.6f}')\n",
    "    if p < 0.05 and label1 != 'Sports':\n",
    "        print('Reject H0: the highest mean is not for the Sports genre')\n",
    "    else:\n",
    "        print('Retain H0: the highest mean is for the Sports genre')\n",
    "    print('-'*50)"
   ]
  },
  {
   "attachments": {},
   "cell_type": "markdown",
   "metadata": {},
   "source": [
    "### Anova Test"
   ]
  },
  {
   "cell_type": "code",
   "execution_count": 16,
   "metadata": {},
   "outputs": [
    {
     "name": "stdout",
     "output_type": "stream",
     "text": [
      "For Genre Vs. NA_Sales:\n",
      "best value when comparing Sports Vs. Strategy\n",
      "p-value = 0.000000\n",
      "f-statistic = 21.148081\n",
      "Retain H0: the highest mean is for the Sports genre\n",
      "--------------------------------------------------\n",
      "For Genre Vs. EU_Sales:\n",
      "best value when comparing Shooter Vs. Puzzle\n",
      "p-value = 0.000000\n",
      "f-statistic = 14.171241\n",
      "Reject H0: the highest mean is not for the Sports genre\n",
      "--------------------------------------------------\n",
      "For Genre Vs. JP_Sales:\n",
      "best value when comparing Role-Playing Vs. Sports\n",
      "p-value = 0.000000\n",
      "f-statistic = 46.887119\n",
      "Reject H0: the highest mean is not for the Sports genre\n",
      "--------------------------------------------------\n"
     ]
    }
   ],
   "source": [
    "from scipy.stats import f_oneway\n",
    "\n",
    "def anova(df, col, lbl):\n",
    "    # get unique labels\n",
    "    labels = df[lbl].unique()\n",
    "    # get data\n",
    "    data = [df[df[lbl] == label][col] for label in labels]\n",
    "    # anova\n",
    "    f, p = f_oneway(*data)\n",
    "    # get labels with largest difference in means\n",
    "    means = [x.mean() for x in data]\n",
    "    label1, label2 = labels[means.index(max(means))], labels[means.index(min(means))]\n",
    "    # return f-statistic, p-value, and labels\n",
    "    return f, p, label1, label2\n",
    "\n",
    "lbls=['NA_Sales','EU_Sales','JP_Sales']\n",
    "cols=['Genre']\n",
    "for i in range(3):\n",
    "    f, p, label1, label2 = anova(df, lbls[i], cols[0])\n",
    "\n",
    "    print(f'For {cols[0]} Vs. {lbls[i]}:')\n",
    "    print(f'best value when comparing {label1} Vs. {label2}')\n",
    "    print(f'p-value = {p:.6f}')\n",
    "    print(f'f-statistic = {f:.6f}')\n",
    "    if p < 0.05 and label1 != 'Sports':\n",
    "        print('Reject H0: the highest mean is not for the Sports genre')\n",
    "    else:\n",
    "        print('Retain H0: the highest mean is for the Sports genre')\n",
    "\n",
    "    print('-'*50)\n",
    "    "
   ]
  },
  {
   "attachments": {},
   "cell_type": "markdown",
   "metadata": {},
   "source": [
    "## 3- Comparing Expectations to data:\n",
    "    - It seems that not because a genre is the most frequent, it's the most favored.\n",
    "    - Sports is the most frequent genre, but it's not the most favored in all regions, only in North America.\n",
    "    - The most favored genre in Europe is Shooter, and in Japan is Role-Playing.\n",
    "    - Expectation matches the data.\n",
    "        "
   ]
  }
 ],
 "metadata": {
  "kernelspec": {
   "display_name": "Python 3",
   "language": "python",
   "name": "python3"
  },
  "language_info": {
   "codemirror_mode": {
    "name": "ipython",
    "version": 3
   },
   "file_extension": ".py",
   "mimetype": "text/x-python",
   "name": "python",
   "nbconvert_exporter": "python",
   "pygments_lexer": "ipython3",
   "version": "3.10.9"
  },
  "orig_nbformat": 4
 },
 "nbformat": 4,
 "nbformat_minor": 2
}
