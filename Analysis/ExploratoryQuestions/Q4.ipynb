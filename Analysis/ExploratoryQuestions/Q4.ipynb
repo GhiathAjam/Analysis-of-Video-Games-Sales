{
 "cells": [
  {
   "cell_type": "code",
   "execution_count": 61,
   "metadata": {},
   "outputs": [],
   "source": [
    "import sys; sys.path.append(\"../../\")\n",
    "from DataPreprocessing.DataPreprocessing import *\n",
    "from DataExploration.DataExploration import *\n",
    "import matplotlib.pyplot as plt\n",
    "import seaborn as sns\n",
    "from utils import *"
   ]
  },
  {
   "attachments": {},
   "cell_type": "markdown",
   "metadata": {},
   "source": [
    "### Q4 Do users or critics rate a specific platform or genre higher than others?\n",
    "+ For each platform/genre get average ratings\n",
    "+ Get the average of these averages\n",
    "+ Compare each with that average"
   ]
  },
  {
   "attachments": {},
   "cell_type": "markdown",
   "metadata": {},
   "source": [
    "## 1- Expectations: \n",
    "\n",
    "#### No, users or critics should not be biased towards a specific platform or genre."
   ]
  },
  {
   "attachments": {},
   "cell_type": "markdown",
   "metadata": {},
   "source": [
    "## 2- Data Collection: \n",
    "    "
   ]
  },
  {
   "cell_type": "code",
   "execution_count": 62,
   "metadata": {},
   "outputs": [
    {
     "name": "stdout",
     "output_type": "stream",
     "text": [
      "<class 'pandas.core.frame.DataFrame'>\n",
      "RangeIndex: 16719 entries, 0 to 16718\n",
      "Data columns (total 16 columns):\n",
      " #   Column           Non-Null Count  Dtype  \n",
      "---  ------           --------------  -----  \n",
      " 0   Name             16717 non-null  object \n",
      " 1   Platform         16719 non-null  object \n",
      " 2   Year_of_Release  16450 non-null  float64\n",
      " 3   Genre            16717 non-null  object \n",
      " 4   Publisher        16665 non-null  object \n",
      " 5   NA_Sales         16719 non-null  float64\n",
      " 6   EU_Sales         16719 non-null  float64\n",
      " 7   JP_Sales         16719 non-null  float64\n",
      " 8   Other_Sales      16719 non-null  float64\n",
      " 9   Global_Sales     16719 non-null  float64\n",
      " 10  Critic_Score     8137 non-null   float64\n",
      " 11  Critic_Count     8137 non-null   float64\n",
      " 12  User_Score       10015 non-null  object \n",
      " 13  User_Count       7590 non-null   float64\n",
      " 14  Developer        10096 non-null  object \n",
      " 15  Rating           9950 non-null   object \n",
      "dtypes: float64(9), object(7)\n",
      "memory usage: 2.0+ MB\n"
     ]
    }
   ],
   "source": [
    "ds = read_data(kind='dataset')\n",
    "ds.info()"
   ]
  },
  {
   "cell_type": "code",
   "execution_count": 63,
   "metadata": {},
   "outputs": [
    {
     "name": "stdout",
     "output_type": "stream",
     "text": [
      "['8' nan '8.3' '8.5' '6.6' '8.4' '8.6' '7.7' '6.3' '7.4' '8.2' '9' '7.9'\n",
      " '8.1' '8.7' '7.1' '3.4' '5.3' '4.8' '3.2' '8.9' '6.4' '7.8' '7.5' '2.6'\n",
      " '7.2' '9.2' '7' '7.3' '4.3' '7.6' '5.7' '5' '9.1' '6.5' 'tbd' '8.8' '6.9'\n",
      " '9.4' '6.8' '6.1' '6.7' '5.4' '4' '4.9' '4.5' '9.3' '6.2' '4.2' '6' '3.7'\n",
      " '4.1' '5.8' '5.6' '5.5' '4.4' '4.6' '5.9' '3.9' '3.1' '2.9' '5.2' '3.3'\n",
      " '4.7' '5.1' '3.5' '2.5' '1.9' '3' '2.7' '2.2' '2' '9.5' '2.1' '3.6' '2.8'\n",
      " '1.8' '3.8' '0' '1.6' '9.6' '2.4' '1.7' '1.1' '0.3' '1.5' '0.7' '1.2'\n",
      " '2.3' '0.5' '1.3' '0.2' '0.6' '1.4' '0.9' '1' '9.7']\n",
      "[8.  nan 8.3 8.5 6.6 8.4 8.6 7.7 6.3 7.4 8.2 9.  7.9 8.1 8.7 7.1 3.4 5.3\n",
      " 4.8 3.2 8.9 6.4 7.8 7.5 2.6 7.2 9.2 7.  7.3 4.3 7.6 5.7 5.  9.1 6.5 8.8\n",
      " 6.9 9.4 6.8 6.1 6.7 5.4 4.  4.9 4.5 9.3 6.2 4.2 6.  3.7 4.1 5.8 5.6 5.5\n",
      " 4.4 4.6 5.9 3.9 3.1 2.9 5.2 3.3 4.7 5.1 3.5 2.5 1.9 3.  2.7 2.2 2.  9.5\n",
      " 2.1 3.6 2.8 1.8 3.8 0.  1.6 9.6 2.4 1.7 1.1 0.3 1.5 0.7 1.2 2.3 0.5 1.3\n",
      " 0.2 0.6 1.4 0.9 1.  9.7]\n",
      "[80. nan 83. 85. 66. 84. 86. 77. 63. 74. 82. 90. 79. 81. 87. 71. 34. 53.\n",
      " 48. 32. 89. 64. 78. 75. 26. 72. 92. 70. 73. 43. 76. 57. 50. 91. 65. 88.\n",
      " 69. 94. 68. 61. 67. 54. 40. 49. 45. 93. 62. 42. 60. 37. 41. 58. 56. 55.\n",
      " 44. 46. 59. 39. 31. 29. 52. 33. 47. 51. 35. 25. 19. 30. 27. 22. 20. 95.\n",
      " 21. 36. 28. 18. 38.  0. 16. 96. 24. 17. 11.  3. 15.  7. 12. 23.  5. 13.\n",
      "  2.  6. 14.  9. 10. 97.]\n"
     ]
    }
   ],
   "source": [
    "# User_Score is object ?? fix that\n",
    "print(ds['User_Score'].unique())\n",
    "ds['User_Score'] = pd.to_numeric(ds['User_Score'], errors='coerce')\n",
    "print(ds['User_Score'].unique())\n",
    "\n",
    "# also multiply by 10 to normalize with Critic_Score\n",
    "ds['User_Score'] = ds['User_Score'] * 10\n",
    "print(ds['User_Score'].unique())"
   ]
  },
  {
   "attachments": {},
   "cell_type": "markdown",
   "metadata": {},
   "source": [
    "#### Filter relevant columns"
   ]
  },
  {
   "cell_type": "code",
   "execution_count": 64,
   "metadata": {},
   "outputs": [],
   "source": [
    "## We can see that question is actually 4 questions not a single one\n",
    "## so we will handle them simultaneously\n",
    "\n",
    "# 1. Users against Platform\n",
    "# 2. Users against Genre\n",
    "# 3. Critics against Platform\n",
    "# 4. Critics against Genre\n",
    "\n",
    "# dataset\n",
    "dfs = [ds.copy() for _ in range(4)]\n",
    "# labels\n",
    "lbls = ['Platform', 'Genre', 'Platform', 'Genre']\n",
    "# columns\n",
    "cols = ['User_Score', 'User_Score', 'Critic_Score', 'Critic_Score']"
   ]
  },
  {
   "cell_type": "code",
   "execution_count": 65,
   "metadata": {},
   "outputs": [
    {
     "name": "stdout",
     "output_type": "stream",
     "text": [
      "  Platform  User_Score  User_Count\n",
      "0      Wii        80.0       322.0\n",
      "1      NES         NaN         NaN\n",
      "      Genre  User_Score  User_Count\n",
      "0    Sports        80.0       322.0\n",
      "1  Platform         NaN         NaN\n",
      "  Platform  Critic_Score  Critic_Count\n",
      "0      Wii          76.0          51.0\n",
      "1      NES           NaN           NaN\n",
      "      Genre  Critic_Score  Critic_Count\n",
      "0    Sports          76.0          51.0\n",
      "1  Platform           NaN           NaN\n"
     ]
    }
   ],
   "source": [
    "## Now Filter the data\n",
    "## cols_to_keep\n",
    "cols_to_keep = [['Platform', 'User_Score', 'User_Count'],\n",
    "                ['Genre', 'User_Score', 'User_Count'],\n",
    "                ['Platform', 'Critic_Score', 'Critic_Count'],\n",
    "                ['Genre', 'Critic_Score', 'Critic_Count']]\n",
    "# filter\n",
    "for i in range(4):\n",
    "    dfs[i] = dfs[i][cols_to_keep[i]]\n",
    "    # dfs[i] = dfs[i].dropna()\n",
    "    # dfs[i] = dfs[i].reset_index(drop=True)\n",
    "    # dfs[i] = dfs[i].astype({'User_Score': 'float64', 'Critic_Score': 'float64'})\n",
    "    # dfs[i] = dfs[i].astype({'User_Count': 'int64', 'Critic_Count': 'int64'})\n",
    "    print(dfs[i].head(2))"
   ]
  },
  {
   "attachments": {},
   "cell_type": "markdown",
   "metadata": {},
   "source": [
    "#### Handle Missing Values\n"
   ]
  },
  {
   "cell_type": "code",
   "execution_count": 66,
   "metadata": {},
   "outputs": [
    {
     "data": {
      "image/png": "[encoded data removed]",
      "text/plain": [
       "<Figure size 432x288 with 1 Axes>"
      ]
     },
     "metadata": {
      "needs_background": "light"
     },
     "output_type": "display_data"
    },
    {
     "data": {
      "image/png": "[encoded data removed]",
      "text/plain": [
       "<Figure size 432x288 with 1 Axes>"
      ]
     },
     "metadata": {
      "needs_background": "light"
     },
     "output_type": "display_data"
    }
   ],
   "source": [
    "# Analyze User_Count and Critic_Count columns\n",
    "dff = ds.copy()\n",
    "dff = dff[['User_Count', 'Critic_Count']]\n",
    "dff = dff.dropna()\n",
    "plt_hist(df=dff, col='User_Count', title='User_Count')\n",
    "plt_hist(df=dff, col='Critic_Count', title='Critic_Count')"
   ]
  },
  {
   "cell_type": "code",
   "execution_count": 67,
   "metadata": {},
   "outputs": [
    {
     "name": "stdout",
     "output_type": "stream",
     "text": [
      "User_Count\n",
      "----------\n",
      " >= 0    | >= 10   | >= 30   | >= 60   | >= 70   | >= 100  | >= 500  |\n",
      "---------+---------+---------+---------+---------+---------+---------+\n",
      " 7017    | 5342    | 3278    | 2218    | 2038    | 1629    | 537     |\n",
      "\n",
      "Critic_Count\n",
      "------------\n",
      " >= 0    | >= 10   | >= 30   | >= 35   | >= 40   | >= 50   | >= 70   |\n",
      "---------+---------+---------+---------+---------+---------+---------+\n",
      " 7017    | 5891    | 2665    | 2097    | 1672    | 987     | 285     |\n",
      "\n"
     ]
    }
   ],
   "source": [
    "# Print different counts for different thresholds\n",
    "\n",
    "def print_horizontal_bar(x, y, title):\n",
    "    print(title+'\\n' +'-'*len(title))\n",
    "    N = max([len(str(i)) for i in x])\n",
    "    N = max(N, max([len(str(i)) for i in y]))\n",
    "    N += 5\n",
    "    pad='-'*N+'+'\n",
    "    #\n",
    "    print(''.join([f' >= {i}'.ljust(N)+'|' for i in x]))\n",
    "    print(pad*len(x))\n",
    "    print(''.join([f' {i}'.ljust(N) +'|' for i in y]))\n",
    "    print()\n",
    "\n",
    "User_Count_N = [0, 10, 30, 60, 70, 100, 500]\n",
    "Critic_Count_N = [0, 10, 30, 35, 40, 50, 70]\n",
    "\n",
    "lst1 = [dff[dff['User_Count'] > i].shape[0] for i in User_Count_N]\n",
    "lst2 = [dff[dff['Critic_Count'] > i].shape[0] for i in Critic_Count_N]\n",
    "\n",
    "print_horizontal_bar(User_Count_N, lst1, 'User_Count')\n",
    "print_horizontal_bar(Critic_Count_N, lst2, 'Critic_Count')"
   ]
  },
  {
   "cell_type": "code",
   "execution_count": 68,
   "metadata": {},
   "outputs": [
    {
     "name": "stdout",
     "output_type": "stream",
     "text": [
      "Index(['Platform', 'User_Score'], dtype='object') (2099, 2)\n",
      "0\n",
      "Index(['Genre', 'User_Score'], dtype='object') (2099, 2)\n",
      "0\n",
      "Index(['Platform', 'Critic_Score'], dtype='object') (2205, 2)\n",
      "0\n",
      "Index(['Genre', 'Critic_Score'], dtype='object') (2205, 2)\n",
      "0\n",
      "(2099, 2)\n"
     ]
    }
   ],
   "source": [
    "USERS_TH = 70\n",
    "CRITICS_TH = 35\n",
    "L1 = ['User_Count', 'Critic_Count']\n",
    "L2 = [USERS_TH, CRITICS_TH]\n",
    "# Filter Credible Counts\n",
    "for i, df in enumerate(dfs):\n",
    "    # also drop user_count and critic_count\n",
    "    for col, TH in zip(L1, L2):\n",
    "        if col in df.columns:\n",
    "            df = df[df[col] >= TH].drop([col], axis=1)\n",
    "    #\n",
    "    print(df.columns, df.shape)\n",
    "    # No more nulls!\n",
    "    print(df.isna().sum().sum())\n",
    "    # python yess\n",
    "    dfs[i] = df\n",
    "#\n",
    "print(dfs[0].shape)"
   ]
  },
  {
   "attachments": {},
   "cell_type": "markdown",
   "metadata": {},
   "source": [
    "## Analysis"
   ]
  },
  {
   "cell_type": "code",
   "execution_count": 69,
   "metadata": {},
   "outputs": [
    {
     "data": {
      "image/png": "[encoded data removed]",
      "text/plain": [
       "<Figure size 1368x1080 with 4 Axes>"
      ]
     },
     "metadata": {
      "needs_background": "light"
     },
     "output_type": "display_data"
    }
   ],
   "source": [
    "# Do all Questions simultaneously\n",
    "fig = plt.figure(figsize=(19, 15))\n",
    "fig.subplots_adjust(hspace=0.2, wspace=0.4)\n",
    "for i in range(4):\n",
    "    df = dfs[i].groupby(lbls[i]).mean()\n",
    "    df = df.sort_values(by=cols[i], ascending=False)\n",
    "    df = df.reset_index()\n",
    "    X = df[lbls[i]]\n",
    "    Y = df[cols[i]]\n",
    "    #\n",
    "    ax = fig.add_subplot(2, 2, i+1)\n",
    "    ax.barh(X, Y, color=sns.color_palette('rainbow', len(df)), label=cols[i])\n",
    "    ax.set_title(f'Avg. {cols[i]} Vs. {lbls[i]}', fontsize=15)\n",
    "    # black borders\n",
    "    for spine in ax.spines.values():\n",
    "        spine.set_edgecolor('black')\n",
    "    # larger fonts\n",
    "    plt.xticks(fontsize=12)\n",
    "    plt.yticks(fontsize=12)\n",
    "    # change bounds of x axis\n",
    "    plt.xlim(Y.min() -1, Y.max() +1)\n"
   ]
  },
  {
   "attachments": {},
   "cell_type": "markdown",
   "metadata": {},
   "source": [
    "## Hypothesis Test\n",
    "     Use T-test to test the relationship between a numerical variable (User/Critic Score)\n",
    "     and a categorical variable (Platform / Genre) we want to test if ther really exists\n",
    "     bias in scoring.\n",
    "     \n",
    "   - null hypothesis: Bias doesn't exist, Platform/Genre doesn't affect the score\n",
    "     \n",
    "   - alternative hypothesis: Bias exists, Platform/Genre does affect the score"
   ]
  },
  {
   "cell_type": "code",
   "execution_count": 80,
   "metadata": {},
   "outputs": [
    {
     "name": "stdout",
     "output_type": "stream",
     "text": [
      "For User_Score Vs. Platform:\n",
      "worst value when comparing PS2 Vs. XOne\n",
      "p-value = 0.000000\n",
      "t-statistic  = 12.448478\n",
      "Reject H0\n",
      "--------------------------------------------------\n",
      "For User_Score Vs. Genre:\n",
      "worst value when comparing Sports Vs. Role-Playing\n",
      "p-value = 0.000000\n",
      "t-statistic  = -9.198338\n",
      "Reject H0\n",
      "--------------------------------------------------\n",
      "For Critic_Score Vs. Platform:\n",
      "worst value when comparing X360 Vs. PC\n",
      "p-value = 0.000000\n",
      "t-statistic  = -7.510106\n",
      "Reject H0\n",
      "--------------------------------------------------\n",
      "For Critic_Score Vs. Genre:\n",
      "worst value when comparing Action Vs. Strategy\n",
      "p-value = 0.000022\n",
      "t-statistic  = -4.274801\n",
      "Reject H0\n",
      "--------------------------------------------------\n"
     ]
    }
   ],
   "source": [
    "# Use Two-Sample T-Test to check if there is a significant difference between\n",
    "# the means of two groups, ex. score(platform1) and score(platform2)\n",
    "# H0: mu1 = mu2\n",
    "# H1: mu1 != mu2\n",
    "# alpha = 0.05\n",
    "# if p-value < alpha then reject H0\n",
    "# if p-value > alpha then fail to reject H0\n",
    "\n",
    "# Two-Sample T-Test\n",
    "from scipy.stats import ttest_ind\n",
    "\n",
    "def ttest(df, col, lbl):\n",
    "    # get unique labels\n",
    "    labels = df[lbl].unique()\n",
    "    # get data\n",
    "    data = [df[df[lbl] == label][col] for label in labels]\n",
    "    # ttest each pair\n",
    "    # get worst p-value\n",
    "    p = 1\n",
    "    for i in range(len(data)):\n",
    "        for j in range(i+1, len(data)):\n",
    "            tij, pij = ttest_ind(data[i], data[j])\n",
    "            # print(f'p-value for {labels[i]} Vs. {labels[j]} = {p}')\n",
    "            if pij < p:\n",
    "                t, p, label1, label2 = tij, pij, labels[i], labels[j]\n",
    "    # t, p = ttest_ind(data[0], data[1])\n",
    "    # print\n",
    "    # print(f'p-value for {col} Vs. {lbl} = {p}')\n",
    "    return t, p, label1, label2\n",
    "\n",
    "# Do all Questions simultaneously\n",
    "for i in range(4):\n",
    "    df = dfs[i]\n",
    "    t, p, label1, label2 = ttest(df, cols[i], lbls[i])\n",
    "    #\n",
    "    print(f'For {cols[i]} Vs. {lbls[i]}:')\n",
    "    print(f'worst value when comparing {label1} Vs. {label2}')\n",
    "    print(f'p-value = {p:.6f}')\n",
    "    print(f't-statistic  = {t:.6f}')\n",
    "    if p < 0.05:\n",
    "        print('Reject H0')\n",
    "    else:\n",
    "        print('Fail to reject H0')\n",
    "    print('-'*50)\n"
   ]
  },
  {
   "cell_type": "code",
   "execution_count": 75,
   "metadata": {},
   "outputs": [
    {
     "name": "stdout",
     "output_type": "stream",
     "text": [
      "p-value for User_Score Vs. Platform = 0.000000\n",
      "f-statistic for User_Score Vs. Platform = 22.717727\n",
      "Reject H0\n",
      "--------------------------------------------------\n",
      "p-value for User_Score Vs. Genre = 0.000000\n",
      "f-statistic for User_Score Vs. Genre = 13.716004\n",
      "Reject H0\n",
      "--------------------------------------------------\n",
      "p-value for Critic_Score Vs. Platform = 0.000000\n",
      "f-statistic for Critic_Score Vs. Platform = 7.029572\n",
      "Reject H0\n",
      "--------------------------------------------------\n",
      "p-value for Critic_Score Vs. Genre = 0.000049\n",
      "f-statistic for Critic_Score Vs. Genre = 3.586431\n",
      "Reject H0\n",
      "--------------------------------------------------\n"
     ]
    }
   ],
   "source": [
    "## Anova Test\n",
    "from scipy.stats import f_oneway\n",
    "\n",
    "# compare all at once\n",
    "def anova(df, col, lbl):\n",
    "    # get unique labels\n",
    "    labels = df[lbl].unique()\n",
    "    # get data\n",
    "    data = [df[df[lbl] == label][col] for label in labels]\n",
    "    # anova\n",
    "    f, p = f_oneway(*data)\n",
    "    # print\n",
    "    # print(f'p-value for {col} Vs. {lbl} = {p}')\n",
    "    return f, p\n",
    "\n",
    "# Do all Questions simultaneously\n",
    "for i in range(4):\n",
    "    df = dfs[i]\n",
    "    f, p = anova(df, cols[i], lbls[i])\n",
    "    #\n",
    "    print(f'p-value for {cols[i]} Vs. {lbls[i]} = {p:.6f}')\n",
    "    print(f'f-statistic for {cols[i]} Vs. {lbls[i]} = {f:.6f}')\n",
    "    if p < 0.05:\n",
    "        print('Reject H0')\n",
    "    else:\n",
    "        print('Fail to reject H0')\n",
    "    print('-'*50)\n",
    "    "
   ]
  },
  {
   "attachments": {},
   "cell_type": "markdown",
   "metadata": {},
   "source": [
    "## 3- Interpretation of Results\n",
    "\n",
    "#### We can say with absolute confidence that H0 was wrong and that Bias does exist.  \n",
    "#### That is, *Users* and *Critics* are biased towards specific *Platforms* and *Genres*."
   ]
  }
 ],
 "metadata": {
  "kernelspec": {
   "display_name": "Python 3",
   "language": "python",
   "name": "python3"
  },
  "language_info": {
   "codemirror_mode": {
    "name": "ipython",
    "version": 3
   },
   "file_extension": ".py",
   "mimetype": "text/x-python",
   "name": "python",
   "nbconvert_exporter": "python",
   "pygments_lexer": "ipython3",
   "version": "3.10.3"
  },
  "orig_nbformat": 4
 },
 "nbformat": 4,
 "nbformat_minor": 2
}
